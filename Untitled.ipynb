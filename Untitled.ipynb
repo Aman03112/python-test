{
 "cells": [
  {
   "cell_type": "markdown",
   "id": "b36da107-aca1-4491-a24e-173f3dc30d22",
   "metadata": {},
   "source": [
    "Q1. write a python program to check leap year?"
   ]
  },
  {
   "cell_type": "code",
   "execution_count": 2,
   "id": "652ced76-2420-425c-b93f-a1324925f734",
   "metadata": {},
   "outputs": [
    {
     "name": "stdin",
     "output_type": "stream",
     "text": [
      "enter the eyaer 600\n"
     ]
    },
    {
     "name": "stdout",
     "output_type": "stream",
     "text": [
      "600\n"
     ]
    },
    {
     "data": {
      "text/plain": [
       "'this is not a leap year'"
      ]
     },
     "execution_count": 2,
     "metadata": {},
     "output_type": "execute_result"
    }
   ],
   "source": [
    "def leap_year():\n",
    "    if (year % 4 == 0 and year % 100 != 0) or (year % 400==0):\n",
    "        return \"this year is leap year\"\n",
    "    else:\n",
    "        return \"this is not a leap year\"\n",
    "try:\n",
    "    year = int(input(\"enter the eyaer\"))\n",
    "    print((year))\n",
    "except Exception as e:\n",
    "    print(\"only numbers are allowed\")\n",
    "leap_year()\n"
   ]
  },
  {
   "cell_type": "markdown",
   "id": "a8d8fd60-cee6-4363-8505-65ceb3d0dfb4",
   "metadata": {},
   "source": [
    "Q2, write a program to print all prime numbers in a iteraval of 1 - 1000?"
   ]
  },
  {
   "cell_type": "code",
   "execution_count": 53,
   "id": "9ae20276-2222-4d94-bef5-fadc926d9d94",
   "metadata": {},
   "outputs": [
    {
     "name": "stdin",
     "output_type": "stream",
     "text": [
      "enter first number 1\n",
      "enter last number 111\n"
     ]
    },
    {
     "name": "stdout",
     "output_type": "stream",
     "text": [
      "[1]\n",
      "[1, 2]\n",
      "[1, 2, 3]\n",
      "[1, 2, 3, 5]\n",
      "[1, 2, 3, 5, 7]\n",
      "[1, 2, 3, 5, 7, 11]\n",
      "[1, 2, 3, 5, 7, 11, 13]\n",
      "[1, 2, 3, 5, 7, 11, 13, 17]\n",
      "[1, 2, 3, 5, 7, 11, 13, 17, 19]\n",
      "[1, 2, 3, 5, 7, 11, 13, 17, 19, 23]\n",
      "[1, 2, 3, 5, 7, 11, 13, 17, 19, 23, 29]\n",
      "[1, 2, 3, 5, 7, 11, 13, 17, 19, 23, 29, 31]\n",
      "[1, 2, 3, 5, 7, 11, 13, 17, 19, 23, 29, 31, 37]\n",
      "[1, 2, 3, 5, 7, 11, 13, 17, 19, 23, 29, 31, 37, 41]\n",
      "[1, 2, 3, 5, 7, 11, 13, 17, 19, 23, 29, 31, 37, 41, 43]\n",
      "[1, 2, 3, 5, 7, 11, 13, 17, 19, 23, 29, 31, 37, 41, 43, 47]\n",
      "[1, 2, 3, 5, 7, 11, 13, 17, 19, 23, 29, 31, 37, 41, 43, 47, 53]\n",
      "[1, 2, 3, 5, 7, 11, 13, 17, 19, 23, 29, 31, 37, 41, 43, 47, 53, 59]\n",
      "[1, 2, 3, 5, 7, 11, 13, 17, 19, 23, 29, 31, 37, 41, 43, 47, 53, 59, 61]\n",
      "[1, 2, 3, 5, 7, 11, 13, 17, 19, 23, 29, 31, 37, 41, 43, 47, 53, 59, 61, 67]\n",
      "[1, 2, 3, 5, 7, 11, 13, 17, 19, 23, 29, 31, 37, 41, 43, 47, 53, 59, 61, 67, 71]\n",
      "[1, 2, 3, 5, 7, 11, 13, 17, 19, 23, 29, 31, 37, 41, 43, 47, 53, 59, 61, 67, 71, 73]\n",
      "[1, 2, 3, 5, 7, 11, 13, 17, 19, 23, 29, 31, 37, 41, 43, 47, 53, 59, 61, 67, 71, 73, 79]\n",
      "[1, 2, 3, 5, 7, 11, 13, 17, 19, 23, 29, 31, 37, 41, 43, 47, 53, 59, 61, 67, 71, 73, 79, 83]\n",
      "[1, 2, 3, 5, 7, 11, 13, 17, 19, 23, 29, 31, 37, 41, 43, 47, 53, 59, 61, 67, 71, 73, 79, 83, 89]\n",
      "[1, 2, 3, 5, 7, 11, 13, 17, 19, 23, 29, 31, 37, 41, 43, 47, 53, 59, 61, 67, 71, 73, 79, 83, 89, 97]\n",
      "[1, 2, 3, 5, 7, 11, 13, 17, 19, 23, 29, 31, 37, 41, 43, 47, 53, 59, 61, 67, 71, 73, 79, 83, 89, 97, 101]\n",
      "[1, 2, 3, 5, 7, 11, 13, 17, 19, 23, 29, 31, 37, 41, 43, 47, 53, 59, 61, 67, 71, 73, 79, 83, 89, 97, 101, 103]\n",
      "[1, 2, 3, 5, 7, 11, 13, 17, 19, 23, 29, 31, 37, 41, 43, 47, 53, 59, 61, 67, 71, 73, 79, 83, 89, 97, 101, 103, 107]\n",
      "[1, 2, 3, 5, 7, 11, 13, 17, 19, 23, 29, 31, 37, 41, 43, 47, 53, 59, 61, 67, 71, 73, 79, 83, 89, 97, 101, 103, 107, 109]\n"
     ]
    }
   ],
   "source": [
    "def prime_number(first_number,last_number):\n",
    "    prime_num = []      \n",
    "        \n",
    "    for i in range(first_number,last_number+1):\n",
    "        for m in range(2,i):\n",
    "           if i%m==0:   \n",
    "            break\n",
    "        else:\n",
    "            prime_num.append(i)\n",
    "            print(prime_num)\n",
    "try:\n",
    "    first_number = int(input(\"enter first number\"))\n",
    "    last_number = int(input(\"enter last number\"))\n",
    "    prime_number(first_number,last_number)\n",
    "except Exception as e:\n",
    "    print(\"only numbers are allowed\")"
   ]
  },
  {
   "cell_type": "markdown",
   "id": "4f6a251f-d794-4a11-b960-fe7c33469488",
   "metadata": {},
   "source": [
    "Q3.write a program to find armstrong number in an interval of 1-10000?"
   ]
  },
  {
   "cell_type": "code",
   "execution_count": null,
   "id": "9b7c5a62-37e2-4bd6-b373-ba741742b02f",
   "metadata": {},
   "outputs": [],
   "source": [
    "\n"
   ]
  },
  {
   "cell_type": "markdown",
   "id": "bc6513d9-f4c5-4738-a13c-691342b1b88f",
   "metadata": {},
   "source": [
    "Q4. write a python program to find hcf?"
   ]
  },
  {
   "cell_type": "code",
   "execution_count": 97,
   "id": "15f5291c-acbb-496e-839b-785190427740",
   "metadata": {},
   "outputs": [
    {
     "name": "stdout",
     "output_type": "stream",
     "text": [
      "The H.C.F. is 2\n"
     ]
    }
   ],
   "source": []
  },
  {
   "cell_type": "markdown",
   "id": "4a28c814-2d80-4c79-932e-b2686cba4208",
   "metadata": {},
   "source": [
    "Q5. write a program to find factorial of a number using reccurction?"
   ]
  },
  {
   "cell_type": "code",
   "execution_count": 124,
   "id": "b17a474a-4afc-49f8-900c-0b495d687e86",
   "metadata": {},
   "outputs": [
    {
     "ename": "IndentationError",
     "evalue": "unexpected indent (3670669939.py, line 8)",
     "output_type": "error",
     "traceback": [
      "\u001b[1;36m  Cell \u001b[1;32mIn[124], line 8\u001b[1;36m\u001b[0m\n\u001b[1;33m    num = int(input(\"enter the value\"))\u001b[0m\n\u001b[1;37m    ^\u001b[0m\n\u001b[1;31mIndentationError\u001b[0m\u001b[1;31m:\u001b[0m unexpected indent\n"
     ]
    }
   ],
   "source": [
    "def find_factorial():\n",
    "    factorial = 1\n",
    "    if num < 0:\n",
    "       print(\"Sorry, factorial does not exist for negative numbers\")\n",
    "    else:\n",
    "       for i in range(1,num + 1):\n",
    "           factorial = factorial*i\n",
    "            num = int(input(\"enter the value\"))\n",
    "       print(\"The factorial of\",num,\"is\",factorial)\n",
    "find_factorial()"
   ]
  },
  {
   "cell_type": "code",
   "execution_count": null,
   "id": "66ccc010-be0a-48c3-9f22-3702b468ce20",
   "metadata": {},
   "outputs": [],
   "source": []
  }
 ],
 "metadata": {
  "kernelspec": {
   "display_name": "Python 3 (ipykernel)",
   "language": "python",
   "name": "python3"
  },
  "language_info": {
   "codemirror_mode": {
    "name": "ipython",
    "version": 3
   },
   "file_extension": ".py",
   "mimetype": "text/x-python",
   "name": "python",
   "nbconvert_exporter": "python",
   "pygments_lexer": "ipython3",
   "version": "3.12.7"
  }
 },
 "nbformat": 4,
 "nbformat_minor": 5
}
